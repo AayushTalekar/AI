{
  "nbformat": 4,
  "nbformat_minor": 0,
  "metadata": {
    "colab": {
      "name": "CW_J054_04072020.ipynb",
      "provenance": [],
      "authorship_tag": "ABX9TyNhEH58fUu8Z+9sp9gWyKr0",
      "include_colab_link": true
    },
    "kernelspec": {
      "name": "python3",
      "display_name": "Python 3"
    }
  },
  "cells": [
    {
      "cell_type": "markdown",
      "metadata": {
        "id": "view-in-github",
        "colab_type": "text"
      },
      "source": [
        "<a href=\"https://colab.research.google.com/github/AayushTalekar/AI/blob/master/CW/CW_J054_04072020.ipynb\" target=\"_parent\"><img src=\"https://colab.research.google.com/assets/colab-badge.svg\" alt=\"Open In Colab\"/></a>"
      ]
    },
    {
      "cell_type": "code",
      "metadata": {
        "id": "Oj_8rngHF45J",
        "colab_type": "code",
        "colab": {}
      },
      "source": [
        "#list\n",
        "a = [1, 2, 3, 4, 5, 'human']\n",
        "#tuple\n",
        "a = (1, 2, 3, 4, 5, 'human')\n",
        "#set\n",
        "a = {1, 2, 3, 4, 5, 'human'}\n",
        "#dictionary\n",
        "a = {\n",
        "    'list' :  [1, 2, 3, 4, 5, 'human'],\n",
        "    'tuple' : (1, 2, 3, 4, 5, 'human'),\n",
        "    'set' : {1, 2, 3, 4, 5, 'human'}   \n",
        "}"
      ],
      "execution_count": 1,
      "outputs": []
    },
    {
      "cell_type": "markdown",
      "metadata": {
        "id": "v2DmZIW5L_Kp",
        "colab_type": "text"
      },
      "source": [
        "#Properties of a set\n"
      ]
    },
    {
      "cell_type": "code",
      "metadata": {
        "id": "SpEFm5RjJaID",
        "colab_type": "code",
        "colab": {
          "base_uri": "https://localhost:8080/",
          "height": 183
        },
        "outputId": "e37f0447-3814-4deb-86d7-81fa77e07448"
      },
      "source": [
        "# set of sets\n",
        "b = {{1, 2, 3, 4, 5, 'human'], \n",
        "     {1, 2, 3, 4, 5, 'human'}}\n"
      ],
      "execution_count": 2,
      "outputs": [
        {
          "output_type": "error",
          "ename": "TypeError",
          "evalue": "ignored",
          "traceback": [
            "\u001b[0;31m---------------------------------------------------------------------------\u001b[0m",
            "\u001b[0;31mTypeError\u001b[0m                                 Traceback (most recent call last)",
            "\u001b[0;32m<ipython-input-2-dbc680d1b3dd>\u001b[0m in \u001b[0;36m<module>\u001b[0;34m()\u001b[0m\n\u001b[1;32m      1\u001b[0m b = {{1, 2, 3, 4, 5, 'human'}, \n\u001b[0;32m----> 2\u001b[0;31m      {1, 2, 3, 4, 5, 'human'}}\n\u001b[0m",
            "\u001b[0;31mTypeError\u001b[0m: unhashable type: 'set'"
          ]
        }
      ]
    },
    {
      "cell_type": "markdown",
      "metadata": {
        "id": "jyE0dssmMPjt",
        "colab_type": "text"
      },
      "source": [
        "Set of sets is not possible"
      ]
    },
    {
      "cell_type": "markdown",
      "metadata": {
        "id": "YTveRHVGN6kt",
        "colab_type": "text"
      },
      "source": [
        "\n",
        "\n",
        "---\n",
        "\n",
        "\n",
        "\n",
        "---\n",
        "\n"
      ]
    },
    {
      "cell_type": "code",
      "metadata": {
        "id": "qcpLCnegKBhP",
        "colab_type": "code",
        "colab": {
          "base_uri": "https://localhost:8080/",
          "height": 201
        },
        "outputId": "95471045-2b8b-4dbb-ac9e-30250da4f2e2"
      },
      "source": [
        "#set of lists\n",
        "b = {[1, 2, 3, 4, 5, 'human'], \n",
        "     [1, 2, 3, 4, 5, 'human']}"
      ],
      "execution_count": 3,
      "outputs": [
        {
          "output_type": "error",
          "ename": "TypeError",
          "evalue": "ignored",
          "traceback": [
            "\u001b[0;31m---------------------------------------------------------------------------\u001b[0m",
            "\u001b[0;31mTypeError\u001b[0m                                 Traceback (most recent call last)",
            "\u001b[0;32m<ipython-input-3-cdc2cf634121>\u001b[0m in \u001b[0;36m<module>\u001b[0;34m()\u001b[0m\n\u001b[1;32m      1\u001b[0m \u001b[0;31m#set of lists\u001b[0m\u001b[0;34m\u001b[0m\u001b[0;34m\u001b[0m\u001b[0;34m\u001b[0m\u001b[0m\n\u001b[1;32m      2\u001b[0m b = {[1, 2, 3, 4, 5, 'human'], \n\u001b[0;32m----> 3\u001b[0;31m      [1, 2, 3, 4, 5, 'human']}\n\u001b[0m",
            "\u001b[0;31mTypeError\u001b[0m: unhashable type: 'list'"
          ]
        }
      ]
    },
    {
      "cell_type": "markdown",
      "metadata": {
        "id": "bDjabf_FMTpp",
        "colab_type": "text"
      },
      "source": [
        "Set of Lists is not possible\n"
      ]
    },
    {
      "cell_type": "markdown",
      "metadata": {
        "id": "4PfV3K8kN5Bk",
        "colab_type": "text"
      },
      "source": [
        "\n",
        "\n",
        "---\n",
        "\n",
        "\n",
        "\n",
        "---\n",
        "\n"
      ]
    },
    {
      "cell_type": "code",
      "metadata": {
        "id": "jJVar2KaK1F1",
        "colab_type": "code",
        "colab": {}
      },
      "source": [
        "# set of tuples\n",
        "b = {\n",
        "    (1, 2, 3, 4, 5, 'human'),\n",
        "     (1,2)\n",
        "}"
      ],
      "execution_count": 4,
      "outputs": []
    },
    {
      "cell_type": "markdown",
      "metadata": {
        "id": "8Z-aSegyMYU7",
        "colab_type": "text"
      },
      "source": [
        "Set of tuples is possible"
      ]
    },
    {
      "cell_type": "markdown",
      "metadata": {
        "id": "v_HhXJbSN3B3",
        "colab_type": "text"
      },
      "source": [
        "\n",
        "\n",
        "---\n",
        "\n",
        "\n",
        "\n",
        "---\n",
        "\n"
      ]
    },
    {
      "cell_type": "code",
      "metadata": {
        "id": "luqPdE-JL1UW",
        "colab_type": "code",
        "colab": {
          "base_uri": "https://localhost:8080/",
          "height": 35
        },
        "outputId": "3dae59de-2f97-45c6-df54-dabb9acb18bc"
      },
      "source": [
        "c = {1, 2, 2, 3}\n",
        "c"
      ],
      "execution_count": 5,
      "outputs": [
        {
          "output_type": "execute_result",
          "data": {
            "text/plain": [
              "{1, 2, 3}"
            ]
          },
          "metadata": {
            "tags": []
          },
          "execution_count": 5
        }
      ]
    },
    {
      "cell_type": "markdown",
      "metadata": {
        "id": "r6PGYCrONAOz",
        "colab_type": "text"
      },
      "source": [
        "Sets do not contain duplicate values"
      ]
    },
    {
      "cell_type": "markdown",
      "metadata": {
        "id": "AzkNWLQONwMH",
        "colab_type": "text"
      },
      "source": [
        "\n",
        "\n",
        "---\n",
        "\n",
        "\n",
        "\n",
        "---\n",
        "\n"
      ]
    },
    {
      "cell_type": "code",
      "metadata": {
        "id": "Ia2qdv5kM_ab",
        "colab_type": "code",
        "colab": {}
      },
      "source": [
        "d = {}\n",
        "e = set()"
      ],
      "execution_count": 8,
      "outputs": []
    },
    {
      "cell_type": "code",
      "metadata": {
        "id": "WQTvNjzeNMTU",
        "colab_type": "code",
        "colab": {
          "base_uri": "https://localhost:8080/",
          "height": 35
        },
        "outputId": "f6b0fcb3-801e-4d99-ee79-5f604c55bcba"
      },
      "source": [
        "d"
      ],
      "execution_count": 9,
      "outputs": [
        {
          "output_type": "execute_result",
          "data": {
            "text/plain": [
              "{}"
            ]
          },
          "metadata": {
            "tags": []
          },
          "execution_count": 9
        }
      ]
    },
    {
      "cell_type": "code",
      "metadata": {
        "id": "sAbhzdOYNbD4",
        "colab_type": "code",
        "colab": {
          "base_uri": "https://localhost:8080/",
          "height": 35
        },
        "outputId": "9958cae6-74a9-46e3-b51b-41a59660ecab"
      },
      "source": [
        "e"
      ],
      "execution_count": 10,
      "outputs": [
        {
          "output_type": "execute_result",
          "data": {
            "text/plain": [
              "set()"
            ]
          },
          "metadata": {
            "tags": []
          },
          "execution_count": 10
        }
      ]
    },
    {
      "cell_type": "markdown",
      "metadata": {
        "id": "aHb7dc4tNcnL",
        "colab_type": "text"
      },
      "source": [
        "Empty set can be called only with the set() function"
      ]
    },
    {
      "cell_type": "markdown",
      "metadata": {
        "id": "idInLuq7N0r5",
        "colab_type": "text"
      },
      "source": [
        "\n",
        "\n",
        "---\n",
        "\n",
        "\n",
        "\n",
        "---\n",
        "\n"
      ]
    },
    {
      "cell_type": "code",
      "metadata": {
        "id": "_T02Vn3HNbl5",
        "colab_type": "code",
        "colab": {
          "base_uri": "https://localhost:8080/",
          "height": 35
        },
        "outputId": "68d8e535-8b11-4004-a143-1a7df087e423"
      },
      "source": [
        "f = {1, 2, 'Three', '4', 5}\n",
        "len(f)"
      ],
      "execution_count": 11,
      "outputs": [
        {
          "output_type": "execute_result",
          "data": {
            "text/plain": [
              "5"
            ]
          },
          "metadata": {
            "tags": []
          },
          "execution_count": 11
        }
      ]
    },
    {
      "cell_type": "markdown",
      "metadata": {
        "id": "2RRb-sjKOryo",
        "colab_type": "text"
      },
      "source": [
        "len() function can be used to get the length of a set\n",
        "\n",
        "---\n",
        "\n",
        "\n",
        "\n",
        "---\n",
        "\n"
      ]
    },
    {
      "cell_type": "code",
      "metadata": {
        "id": "2ajKgAONOqet",
        "colab_type": "code",
        "colab": {
          "base_uri": "https://localhost:8080/",
          "height": 183
        },
        "outputId": "2388c0d0-c517-489e-8d8b-7c8412ccf2e3"
      },
      "source": [
        "g = {1, 2, 3, 4, 5}\n",
        "g[1]"
      ],
      "execution_count": 12,
      "outputs": [
        {
          "output_type": "error",
          "ename": "TypeError",
          "evalue": "ignored",
          "traceback": [
            "\u001b[0;31m---------------------------------------------------------------------------\u001b[0m",
            "\u001b[0;31mTypeError\u001b[0m                                 Traceback (most recent call last)",
            "\u001b[0;32m<ipython-input-12-60e3d2ff4fb6>\u001b[0m in \u001b[0;36m<module>\u001b[0;34m()\u001b[0m\n\u001b[1;32m      1\u001b[0m \u001b[0mg\u001b[0m \u001b[0;34m=\u001b[0m \u001b[0;34m{\u001b[0m\u001b[0;36m1\u001b[0m\u001b[0;34m,\u001b[0m \u001b[0;36m2\u001b[0m\u001b[0;34m,\u001b[0m \u001b[0;36m3\u001b[0m\u001b[0;34m,\u001b[0m \u001b[0;36m4\u001b[0m\u001b[0;34m,\u001b[0m \u001b[0;36m5\u001b[0m\u001b[0;34m}\u001b[0m\u001b[0;34m\u001b[0m\u001b[0;34m\u001b[0m\u001b[0m\n\u001b[0;32m----> 2\u001b[0;31m \u001b[0mg\u001b[0m\u001b[0;34m[\u001b[0m\u001b[0;36m1\u001b[0m\u001b[0;34m]\u001b[0m\u001b[0;34m\u001b[0m\u001b[0;34m\u001b[0m\u001b[0m\n\u001b[0m",
            "\u001b[0;31mTypeError\u001b[0m: 'set' object does not support indexing"
          ]
        }
      ]
    },
    {
      "cell_type": "markdown",
      "metadata": {
        "id": "TbHQNEYZPxLb",
        "colab_type": "text"
      },
      "source": [
        "Set does not support indexing. Sets are unordered\n",
        "\n",
        "---\n",
        "\n",
        "\n",
        "\n",
        "---\n",
        "\n"
      ]
    },
    {
      "cell_type": "code",
      "metadata": {
        "id": "LkzU4edqPwAk",
        "colab_type": "code",
        "colab": {
          "base_uri": "https://localhost:8080/",
          "height": 35
        },
        "outputId": "b6cec862-dbef-4478-e6f6-e424f6e4d831"
      },
      "source": [
        "h = {1, 2, 3, 4, 'five'}\n",
        "i = {'six', 7, 8, 9}\n",
        "h|i"
      ],
      "execution_count": 13,
      "outputs": [
        {
          "output_type": "execute_result",
          "data": {
            "text/plain": [
              "{1, 2, 3, 4, 7, 8, 9, 'five', 'six'}"
            ]
          },
          "metadata": {
            "tags": []
          },
          "execution_count": 13
        }
      ]
    },
    {
      "cell_type": "markdown",
      "metadata": {
        "id": "WoWCP04uQVjW",
        "colab_type": "text"
      },
      "source": [
        "Union of sets using | operator"
      ]
    },
    {
      "cell_type": "code",
      "metadata": {
        "id": "NKdl8-mMQRD3",
        "colab_type": "code",
        "colab": {
          "base_uri": "https://localhost:8080/",
          "height": 35
        },
        "outputId": "62ba504b-5498-4194-c292-256f273d9cf2"
      },
      "source": [
        "h.union(i)"
      ],
      "execution_count": 14,
      "outputs": [
        {
          "output_type": "execute_result",
          "data": {
            "text/plain": [
              "{1, 2, 3, 4, 7, 8, 9, 'five', 'six'}"
            ]
          },
          "metadata": {
            "tags": []
          },
          "execution_count": 14
        }
      ]
    },
    {
      "cell_type": "markdown",
      "metadata": {
        "id": "XpwONjV2QZeO",
        "colab_type": "text"
      },
      "source": [
        "Union of sets using .union() function\n",
        "\n",
        "---\n",
        "\n",
        "\n",
        "\n",
        "---\n",
        "\n"
      ]
    },
    {
      "cell_type": "code",
      "metadata": {
        "id": "XbGDIf4uRRFh",
        "colab_type": "code",
        "colab": {
          "base_uri": "https://localhost:8080/",
          "height": 35
        },
        "outputId": "5901ec34-7448-4842-8176-7079f0520eff"
      },
      "source": [
        "i = {1, 3, 4, 5}\n",
        "i.clear()\n",
        "i"
      ],
      "execution_count": 19,
      "outputs": [
        {
          "output_type": "execute_result",
          "data": {
            "text/plain": [
              "set()"
            ]
          },
          "metadata": {
            "tags": []
          },
          "execution_count": 19
        }
      ]
    },
    {
      "cell_type": "markdown",
      "metadata": {
        "id": "ccyR2kxqSzIM",
        "colab_type": "text"
      },
      "source": [
        ".clear() removes all elements of a set\n",
        "\n",
        "---\n",
        "\n",
        "\n",
        "\n",
        "---\n",
        "\n"
      ]
    },
    {
      "cell_type": "code",
      "metadata": {
        "id": "bbTMbdUPTBBN",
        "colab_type": "code",
        "colab": {
          "base_uri": "https://localhost:8080/",
          "height": 35
        },
        "outputId": "184e321b-4c46-4f8a-deaa-f5d8f9edb23b"
      },
      "source": [
        "j = {1, 2, 3, 4}\n",
        "j.add('five')\n",
        "j"
      ],
      "execution_count": 23,
      "outputs": [
        {
          "output_type": "execute_result",
          "data": {
            "text/plain": [
              "{1, 2, 3, 4, 'five'}"
            ]
          },
          "metadata": {
            "tags": []
          },
          "execution_count": 23
        }
      ]
    },
    {
      "cell_type": "markdown",
      "metadata": {
        "id": "Es3jPQS5TO4v",
        "colab_type": "text"
      },
      "source": [
        "single element can be added to a set using .add()\n",
        "\n",
        "---\n",
        "\n",
        "\n",
        "\n",
        "---\n",
        "\n"
      ]
    },
    {
      "cell_type": "code",
      "metadata": {
        "id": "LKF3K-MiTpCt",
        "colab_type": "code",
        "colab": {
          "base_uri": "https://localhost:8080/",
          "height": 35
        },
        "outputId": "92b5cf73-e4ff-4623-f5ec-6465a4940367"
      },
      "source": [
        "k = {1, 2, 3, 4, 'five', '6'}\n",
        "k.remove('6')\n",
        "k"
      ],
      "execution_count": 25,
      "outputs": [
        {
          "output_type": "execute_result",
          "data": {
            "text/plain": [
              "{1, 2, 3, 4, 'five'}"
            ]
          },
          "metadata": {
            "tags": []
          },
          "execution_count": 25
        }
      ]
    },
    {
      "cell_type": "markdown",
      "metadata": {
        "id": "hAT9I-UWTyTz",
        "colab_type": "text"
      },
      "source": [
        "single element can be removed using .remove()\n",
        "\n",
        "---\n",
        "\n",
        "\n",
        "\n",
        "---\n",
        "\n"
      ]
    },
    {
      "cell_type": "code",
      "metadata": {
        "id": "n5rAqJomQQHN",
        "colab_type": "code",
        "colab": {
          "base_uri": "https://localhost:8080/",
          "height": 35
        },
        "outputId": "d07c8743-de38-4eae-c746-94b4cec81f74"
      },
      "source": [
        "b = {1, 2, 3, 4, 5, 6}\n",
        "b.pop()"
      ],
      "execution_count": 17,
      "outputs": [
        {
          "output_type": "execute_result",
          "data": {
            "text/plain": [
              "1"
            ]
          },
          "metadata": {
            "tags": []
          },
          "execution_count": 17
        }
      ]
    },
    {
      "cell_type": "code",
      "metadata": {
        "id": "jchTDF4mU0De",
        "colab_type": "code",
        "colab": {
          "base_uri": "https://localhost:8080/",
          "height": 35
        },
        "outputId": "c08b3fb5-4167-41b9-bdad-5a54f86d1555"
      },
      "source": [
        "c = {'one', 'three', 'eleven', 'Hi'}\n",
        "c.pop()"
      ],
      "execution_count": 28,
      "outputs": [
        {
          "output_type": "execute_result",
          "data": {
            "application/vnd.google.colaboratory.intrinsic": {
              "type": "string"
            },
            "text/plain": [
              "'three'"
            ]
          },
          "metadata": {
            "tags": []
          },
          "execution_count": 28
        }
      ]
    },
    {
      "cell_type": "markdown",
      "metadata": {
        "id": "YFVz1gSoRx9Y",
        "colab_type": "text"
      },
      "source": [
        ".pop() removes and returns an arbitrarily chosen element from the set\n",
        "\n",
        "---\n",
        "\n",
        "\n",
        "\n",
        "---\n",
        "\n"
      ]
    },
    {
      "cell_type": "code",
      "metadata": {
        "id": "onpPKs3njq_P",
        "colab_type": "code",
        "colab": {}
      },
      "source": [
        ""
      ],
      "execution_count": null,
      "outputs": []
    }
  ]
}