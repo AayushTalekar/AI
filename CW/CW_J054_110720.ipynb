{
  "nbformat": 4,
  "nbformat_minor": 0,
  "metadata": {
    "colab": {
      "name": "CW_J054_110720.ipynb",
      "provenance": [],
      "authorship_tag": "ABX9TyN4YPZ3KLvrxM/n65CRceDw",
      "include_colab_link": true
    },
    "kernelspec": {
      "name": "python3",
      "display_name": "Python 3"
    }
  },
  "cells": [
    {
      "cell_type": "markdown",
      "metadata": {
        "id": "view-in-github",
        "colab_type": "text"
      },
      "source": [
        "<a href=\"https://colab.research.google.com/github/AayushTalekar/AI/blob/master/CW/CW_J054_110720.ipynb\" target=\"_parent\"><img src=\"https://colab.research.google.com/assets/colab-badge.svg\" alt=\"Open In Colab\"/></a>"
      ]
    },
    {
      "cell_type": "code",
      "metadata": {
        "id": "dRgMSraPSB0O",
        "colab_type": "code",
        "colab": {}
      },
      "source": [
        "a = 'four'"
      ],
      "execution_count": 1,
      "outputs": []
    },
    {
      "cell_type": "code",
      "metadata": {
        "id": "65q32CBXSoIq",
        "colab_type": "code",
        "colab": {
          "base_uri": "https://localhost:8080/",
          "height": 131
        },
        "outputId": "bb50ff8a-f507-49c3-d672-7e7d0c421933"
      },
      "source": [
        "print a"
      ],
      "execution_count": 2,
      "outputs": [
        {
          "output_type": "error",
          "ename": "SyntaxError",
          "evalue": "ignored",
          "traceback": [
            "\u001b[0;36m  File \u001b[0;32m\"<ipython-input-2-da1608c9d425>\"\u001b[0;36m, line \u001b[0;32m1\u001b[0m\n\u001b[0;31m    print a\u001b[0m\n\u001b[0m          ^\u001b[0m\n\u001b[0;31mSyntaxError\u001b[0m\u001b[0;31m:\u001b[0m Missing parentheses in call to 'print'. Did you mean print(a)?\n"
          ]
        }
      ]
    },
    {
      "cell_type": "code",
      "metadata": {
        "id": "i85FCcG2SotJ",
        "colab_type": "code",
        "colab": {
          "base_uri": "https://localhost:8080/",
          "height": 35
        },
        "outputId": "d58d351a-921e-42ca-a497-8a11ec2bb6f7"
      },
      "source": [
        "print(a)"
      ],
      "execution_count": 3,
      "outputs": [
        {
          "output_type": "stream",
          "text": [
            "four\n"
          ],
          "name": "stdout"
        }
      ]
    },
    {
      "cell_type": "markdown",
      "metadata": {
        "id": "xfHMvBhNSr0X",
        "colab_type": "text"
      },
      "source": [
        "Parenthesis is needed for print() function"
      ]
    },
    {
      "cell_type": "code",
      "metadata": {
        "id": "XE3yrrWKSrDW",
        "colab_type": "code",
        "colab": {}
      },
      "source": [
        "  a = 5\n",
        "b=2\n",
        "c=3"
      ],
      "execution_count": 4,
      "outputs": []
    },
    {
      "cell_type": "code",
      "metadata": {
        "id": "9vTu1nWwS08v",
        "colab_type": "code",
        "colab": {
          "base_uri": "https://localhost:8080/",
          "height": 131
        },
        "outputId": "d5ba9e08-40f1-4404-9b1a-cd6847d39201"
      },
      "source": [
        "if b>0:\n",
        "print(b)"
      ],
      "execution_count": 5,
      "outputs": [
        {
          "output_type": "error",
          "ename": "IndentationError",
          "evalue": "ignored",
          "traceback": [
            "\u001b[0;36m  File \u001b[0;32m\"<ipython-input-5-827b16c2d5e0>\"\u001b[0;36m, line \u001b[0;32m2\u001b[0m\n\u001b[0;31m    print(b)\u001b[0m\n\u001b[0m        ^\u001b[0m\n\u001b[0;31mIndentationError\u001b[0m\u001b[0;31m:\u001b[0m expected an indented block\n"
          ]
        }
      ]
    },
    {
      "cell_type": "code",
      "metadata": {
        "id": "ziNgH3T2UCyM",
        "colab_type": "code",
        "colab": {
          "base_uri": "https://localhost:8080/",
          "height": 35
        },
        "outputId": "2260eca6-6634-4cd6-ef77-8278f38f8b28"
      },
      "source": [
        "if b>0:\n",
        "  print(b)"
      ],
      "execution_count": 6,
      "outputs": [
        {
          "output_type": "stream",
          "text": [
            "2\n"
          ],
          "name": "stdout"
        }
      ]
    },
    {
      "cell_type": "markdown",
      "metadata": {
        "id": "ZZZqNMdxS6ZU",
        "colab_type": "text"
      },
      "source": [
        "Indentation Error can be removed by using tabs. In python, indentations are used instead of {}"
      ]
    },
    {
      "cell_type": "code",
      "metadata": {
        "id": "53BaFxqRS35L",
        "colab_type": "code",
        "colab": {}
      },
      "source": [
        "a = 1\n",
        "b = 2\n",
        "def printer():\n",
        "    print(a+b)\n",
        "def sum(a,b):\n",
        "    return a+b"
      ],
      "execution_count": 7,
      "outputs": []
    },
    {
      "cell_type": "code",
      "metadata": {
        "id": "o8y322tiULA3",
        "colab_type": "code",
        "colab": {
          "base_uri": "https://localhost:8080/",
          "height": 35
        },
        "outputId": "5a7236c4-70b5-48d8-9aa0-090adc184ef8"
      },
      "source": [
        "printer()"
      ],
      "execution_count": 8,
      "outputs": [
        {
          "output_type": "stream",
          "text": [
            "3\n"
          ],
          "name": "stdout"
        }
      ]
    },
    {
      "cell_type": "code",
      "metadata": {
        "id": "vF5UWPoBUMXr",
        "colab_type": "code",
        "colab": {
          "base_uri": "https://localhost:8080/",
          "height": 35
        },
        "outputId": "6122ce96-9dcc-4ad2-f658-e648b626029b"
      },
      "source": [
        "sum(a,b)"
      ],
      "execution_count": 10,
      "outputs": [
        {
          "output_type": "execute_result",
          "data": {
            "text/plain": [
              "3"
            ]
          },
          "metadata": {
            "tags": []
          },
          "execution_count": 10
        }
      ]
    },
    {
      "cell_type": "markdown",
      "metadata": {
        "id": "jThiHkgcUQvs",
        "colab_type": "text"
      },
      "source": [
        "Variables which are declared outside functions are accessible inside the functions. Such declaration of variables is called Global Variable Declaration"
      ]
    },
    {
      "cell_type": "code",
      "metadata": {
        "id": "rHM0YrnGUNub",
        "colab_type": "code",
        "colab": {}
      },
      "source": [
        "del a"
      ],
      "execution_count": 11,
      "outputs": []
    },
    {
      "cell_type": "markdown",
      "metadata": {
        "id": "70Wks32XVMCu",
        "colab_type": "text"
      },
      "source": [
        "Varaibles can be deleted by using del function"
      ]
    },
    {
      "cell_type": "code",
      "metadata": {
        "id": "kh01A7WEVKaa",
        "colab_type": "code",
        "colab": {
          "base_uri": "https://localhost:8080/",
          "height": 35
        },
        "outputId": "35e23290-5ea9-4e73-fe14-da3fb6f68e3e"
      },
      "source": [
        "a=b\n",
        "a"
      ],
      "execution_count": 13,
      "outputs": [
        {
          "output_type": "execute_result",
          "data": {
            "text/plain": [
              "2"
            ]
          },
          "metadata": {
            "tags": []
          },
          "execution_count": 13
        }
      ]
    },
    {
      "cell_type": "code",
      "metadata": {
        "id": "Bg7i-hIVVUak",
        "colab_type": "code",
        "colab": {
          "base_uri": "https://localhost:8080/",
          "height": 35
        },
        "outputId": "60e6d071-ca4c-41dc-8dfe-d5e2ad145b5c"
      },
      "source": [
        "a==10"
      ],
      "execution_count": 14,
      "outputs": [
        {
          "output_type": "execute_result",
          "data": {
            "text/plain": [
              "False"
            ]
          },
          "metadata": {
            "tags": []
          },
          "execution_count": 14
        }
      ]
    },
    {
      "cell_type": "markdown",
      "metadata": {
        "id": "epch19A1VYQn",
        "colab_type": "text"
      },
      "source": [
        "Single = is an assignment operator which assigns the values to a variable\n",
        "Double == is for checking and returns a boolean data type"
      ]
    },
    {
      "cell_type": "code",
      "metadata": {
        "id": "oRbS7dX9VXcw",
        "colab_type": "code",
        "colab": {
          "base_uri": "https://localhost:8080/",
          "height": 35
        },
        "outputId": "857c30f2-98c0-4971-9bba-18707578a5ee"
      },
      "source": [
        "int('111',3)"
      ],
      "execution_count": 15,
      "outputs": [
        {
          "output_type": "execute_result",
          "data": {
            "text/plain": [
              "13"
            ]
          },
          "metadata": {
            "tags": []
          },
          "execution_count": 15
        }
      ]
    },
    {
      "cell_type": "code",
      "metadata": {
        "id": "BBiSEmSxWj4I",
        "colab_type": "code",
        "colab": {
          "base_uri": "https://localhost:8080/",
          "height": 35
        },
        "outputId": "c7c1dd43-ace2-4d46-9ac0-a58d6ab2f533"
      },
      "source": [
        "float(int('111',3))"
      ],
      "execution_count": 16,
      "outputs": [
        {
          "output_type": "execute_result",
          "data": {
            "text/plain": [
              "13.0"
            ]
          },
          "metadata": {
            "tags": []
          },
          "execution_count": 16
        }
      ]
    },
    {
      "cell_type": "code",
      "metadata": {
        "id": "mrFa9FDhWl-0",
        "colab_type": "code",
        "colab": {
          "base_uri": "https://localhost:8080/",
          "height": 35
        },
        "outputId": "e7da42df-1b5c-4a70-8ff1-9a1940c91f0e"
      },
      "source": [
        "str(float(int('111',3)))"
      ],
      "execution_count": 17,
      "outputs": [
        {
          "output_type": "execute_result",
          "data": {
            "application/vnd.google.colaboratory.intrinsic": {
              "type": "string"
            },
            "text/plain": [
              "'13.0'"
            ]
          },
          "metadata": {
            "tags": []
          },
          "execution_count": 17
        }
      ]
    },
    {
      "cell_type": "markdown",
      "metadata": {
        "id": "2LyL_GIZWo96",
        "colab_type": "text"
      },
      "source": [
        "Type casting is used to change the data types"
      ]
    },
    {
      "cell_type": "code",
      "metadata": {
        "id": "xkhDsJJLWoN3",
        "colab_type": "code",
        "colab": {}
      },
      "source": [
        "a=6\n",
        "a_=4 #for using reserve keywors\n",
        "__a__=9\n",
        "_a=9 #variable is intended for internal use\n",
        "__a=91\n"
      ],
      "execution_count": 18,
      "outputs": []
    },
    {
      "cell_type": "code",
      "metadata": {
        "id": "mu4gngW9Wx7Z",
        "colab_type": "code",
        "colab": {
          "base_uri": "https://localhost:8080/",
          "height": 131
        },
        "outputId": "d4e0d01c-0db2-4b5b-c16a-144cdec03271"
      },
      "source": [
        "def make_a(a,class):"
      ],
      "execution_count": 19,
      "outputs": [
        {
          "output_type": "error",
          "ename": "SyntaxError",
          "evalue": "ignored",
          "traceback": [
            "\u001b[0;36m  File \u001b[0;32m\"<ipython-input-19-142e259f8b2c>\"\u001b[0;36m, line \u001b[0;32m1\u001b[0m\n\u001b[0;31m    def make_a(a,class):\u001b[0m\n\u001b[0m                     ^\u001b[0m\n\u001b[0;31mSyntaxError\u001b[0m\u001b[0;31m:\u001b[0m invalid syntax\n"
          ]
        }
      ]
    },
    {
      "cell_type": "markdown",
      "metadata": {
        "id": "CYkZz4znW0_V",
        "colab_type": "text"
      },
      "source": [
        "reserved words like class can not be used as variables or arguements"
      ]
    },
    {
      "cell_type": "code",
      "metadata": {
        "id": "1xPMd8N-W0Ue",
        "colab_type": "code",
        "colab": {}
      },
      "source": [
        "def make_a(a,class_):\n",
        "    pass"
      ],
      "execution_count": 20,
      "outputs": []
    },
    {
      "cell_type": "code",
      "metadata": {
        "id": "5indBgIuW9Ed",
        "colab_type": "code",
        "colab": {}
      },
      "source": [
        "#public and private variable\n",
        "class human:\n",
        "  \"\"\"Members of a class\"\"\"\n",
        "    # attribute - variables\n",
        "    # method/behaviour - function\n"
      ],
      "execution_count": 21,
      "outputs": []
    },
    {
      "cell_type": "code",
      "metadata": {
        "id": "yMMt0o8OW_lj",
        "colab_type": "code",
        "colab": {
          "base_uri": "https://localhost:8080/",
          "height": 35
        },
        "outputId": "9879f0ae-6599-4b1b-d30a-f20296675245"
      },
      "source": [
        "class Student: \n",
        "    a=6\n",
        "    def __init__(self, name): \n",
        "        #print(name)\n",
        "        self.__name = name \n",
        "        #self.__a=6\n",
        "  \n",
        "    def displayName(self): \n",
        "        print(self.__name)\n",
        "        #print(self__.a) \n",
        "#Class vs Object  \n",
        "s1 = Student(\"Santhosh\") \n",
        "s1.displayName() \n",
        "  \n",
        "# Raises an error \n",
        "#print(s1.__a) "
      ],
      "execution_count": 22,
      "outputs": [
        {
          "output_type": "stream",
          "text": [
            "Santhosh\n"
          ],
          "name": "stdout"
        }
      ]
    },
    {
      "cell_type": "code",
      "metadata": {
        "id": "887MccrmXBsm",
        "colab_type": "code",
        "colab": {}
      },
      "source": [
        "class student1(Student):\n",
        "    def __init__(self):\n",
        "        print(self.a)\n",
        "        print(self.__)"
      ],
      "execution_count": 23,
      "outputs": []
    },
    {
      "cell_type": "code",
      "metadata": {
        "id": "ojLx-M_7XEIK",
        "colab_type": "code",
        "colab": {
          "base_uri": "https://localhost:8080/",
          "height": 520
        },
        "outputId": "f950ac59-57a6-4d49-a932-727043b8fc71"
      },
      "source": [
        "dir(s1)"
      ],
      "execution_count": 24,
      "outputs": [
        {
          "output_type": "execute_result",
          "data": {
            "text/plain": [
              "['_Student__name',\n",
              " '__class__',\n",
              " '__delattr__',\n",
              " '__dict__',\n",
              " '__dir__',\n",
              " '__doc__',\n",
              " '__eq__',\n",
              " '__format__',\n",
              " '__ge__',\n",
              " '__getattribute__',\n",
              " '__gt__',\n",
              " '__hash__',\n",
              " '__init__',\n",
              " '__init_subclass__',\n",
              " '__le__',\n",
              " '__lt__',\n",
              " '__module__',\n",
              " '__ne__',\n",
              " '__new__',\n",
              " '__reduce__',\n",
              " '__reduce_ex__',\n",
              " '__repr__',\n",
              " '__setattr__',\n",
              " '__sizeof__',\n",
              " '__str__',\n",
              " '__subclasshook__',\n",
              " '__weakref__',\n",
              " 'a',\n",
              " 'displayName']"
            ]
          },
          "metadata": {
            "tags": []
          },
          "execution_count": 24
        }
      ]
    },
    {
      "cell_type": "code",
      "metadata": {
        "id": "IKsNOWDnXGR0",
        "colab_type": "code",
        "colab": {}
      },
      "source": [
        ""
      ],
      "execution_count": null,
      "outputs": []
    }
  ]
}