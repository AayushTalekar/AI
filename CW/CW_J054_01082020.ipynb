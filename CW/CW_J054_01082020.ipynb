{
  "nbformat": 4,
  "nbformat_minor": 0,
  "metadata": {
    "colab": {
      "name": "CW_J054_01082020.ipynb",
      "provenance": [],
      "authorship_tag": "ABX9TyOQNGpcieWfsY+XtZ4XxrvF",
      "include_colab_link": true
    },
    "kernelspec": {
      "name": "python3",
      "display_name": "Python 3"
    }
  },
  "cells": [
    {
      "cell_type": "markdown",
      "metadata": {
        "id": "view-in-github",
        "colab_type": "text"
      },
      "source": [
        "<a href=\"https://colab.research.google.com/github/AayushTalekar/AI/blob/master/CW/CW_J054_01082020.ipynb\" target=\"_parent\"><img src=\"https://colab.research.google.com/assets/colab-badge.svg\" alt=\"Open In Colab\"/></a>"
      ]
    },
    {
      "cell_type": "code",
      "metadata": {
        "id": "qZygiu0Y-nok",
        "colab_type": "code",
        "colab": {}
      },
      "source": [
        "import pandas as pd\n",
        "import numpy as np"
      ],
      "execution_count": 1,
      "outputs": []
    },
    {
      "cell_type": "code",
      "metadata": {
        "id": "XpKiooKeBpQb",
        "colab_type": "code",
        "colab": {
          "base_uri": "https://localhost:8080/",
          "height": 35
        },
        "outputId": "96ddad91-033d-47b8-f822-d0ffbb4b130f"
      },
      "source": [
        "sum(range(1,5))"
      ],
      "execution_count": 4,
      "outputs": [
        {
          "output_type": "execute_result",
          "data": {
            "text/plain": [
              "10"
            ]
          },
          "metadata": {
            "tags": []
          },
          "execution_count": 4
        }
      ]
    },
    {
      "cell_type": "code",
      "metadata": {
        "id": "rxavoVh1Bs0D",
        "colab_type": "code",
        "colab": {}
      },
      "source": [
        "def factorial(n):\n",
        "  if n == 1:\n",
        "    return n\n",
        "  elif n < 1:\n",
        "    return (\"NA\")\n",
        "  else:\n",
        "    return n*factorial(n-1)"
      ],
      "execution_count": 7,
      "outputs": []
    },
    {
      "cell_type": "code",
      "metadata": {
        "id": "knc8h9xuF2Gw",
        "colab_type": "code",
        "colab": {
          "base_uri": "https://localhost:8080/",
          "height": 35
        },
        "outputId": "fd66288b-9373-4d6f-b1c9-b62365646009"
      },
      "source": [
        "factorial(4)"
      ],
      "execution_count": 8,
      "outputs": [
        {
          "output_type": "execute_result",
          "data": {
            "text/plain": [
              "24"
            ]
          },
          "metadata": {
            "tags": []
          },
          "execution_count": 8
        }
      ]
    },
    {
      "cell_type": "code",
      "metadata": {
        "id": "OKL_gT6RF3tQ",
        "colab_type": "code",
        "colab": {}
      },
      "source": [
        "def factorial_simp(n):\n",
        "  factor = 1\n",
        "  for i in range(1, n+1):\n",
        "    factor*=i\n",
        "  return factor"
      ],
      "execution_count": 9,
      "outputs": []
    },
    {
      "cell_type": "code",
      "metadata": {
        "id": "Tdn3IclpIVxN",
        "colab_type": "code",
        "colab": {
          "base_uri": "https://localhost:8080/",
          "height": 35
        },
        "outputId": "25f53c3c-9c68-461b-b7f6-682e2ae8f7ee"
      },
      "source": [
        "factorial_simp(4)"
      ],
      "execution_count": 10,
      "outputs": [
        {
          "output_type": "execute_result",
          "data": {
            "text/plain": [
              "24"
            ]
          },
          "metadata": {
            "tags": []
          },
          "execution_count": 10
        }
      ]
    },
    {
      "cell_type": "code",
      "metadata": {
        "id": "O1vzbpFfIXSt",
        "colab_type": "code",
        "colab": {}
      },
      "source": [
        "def fibonnaci(n):\n",
        "  if n<=1:\n",
        "     return n\n",
        "  else:\n",
        "     return (fibonnaci(n-1)+fibonnaci(n-2))"
      ],
      "execution_count": 20,
      "outputs": []
    },
    {
      "cell_type": "code",
      "metadata": {
        "id": "zUqNLwAuJcqg",
        "colab_type": "code",
        "colab": {
          "base_uri": "https://localhost:8080/",
          "height": 35
        },
        "outputId": "b5cb5433-4f00-44ea-d653-36beeaffac3e"
      },
      "source": [
        "fibonnaci(10)"
      ],
      "execution_count": 37,
      "outputs": [
        {
          "output_type": "execute_result",
          "data": {
            "text/plain": [
              "55"
            ]
          },
          "metadata": {
            "tags": []
          },
          "execution_count": 37
        }
      ]
    },
    {
      "cell_type": "code",
      "metadata": {
        "id": "TfRj4wulJgQ2",
        "colab_type": "code",
        "colab": {}
      },
      "source": [
        "def fibonnaci_simp(n):\n",
        "  n1 = 0\n",
        "  n2 = 1\n",
        "  count = 0\n",
        "  if n<=0:\n",
        "    print('Invalid Input')\n",
        "  elif n==1:\n",
        "    print(n1,'\\n')\n",
        "  else:\n",
        "    while count<n:\n",
        "      n_th = n1 + n2\n",
        "      n1 = n2\n",
        "      n2 = n_th\n",
        "      count+=1\n",
        "    print(n1)"
      ],
      "execution_count": 30,
      "outputs": []
    },
    {
      "cell_type": "code",
      "metadata": {
        "id": "WeThjT-aMPol",
        "colab_type": "code",
        "colab": {
          "base_uri": "https://localhost:8080/",
          "height": 35
        },
        "outputId": "47190d08-8151-4c23-a6b5-7cf51bac24f0"
      },
      "source": [
        "fibonnaci_simp(10)"
      ],
      "execution_count": 31,
      "outputs": [
        {
          "output_type": "stream",
          "text": [
            "55\n"
          ],
          "name": "stdout"
        }
      ]
    },
    {
      "cell_type": "markdown",
      "metadata": {
        "id": "ooiSzT6XWDOT",
        "colab_type": "text"
      },
      "source": [
        "Binary search"
      ]
    },
    {
      "cell_type": "code",
      "metadata": {
        "id": "x67UwDK7MYIr",
        "colab_type": "code",
        "colab": {}
      },
      "source": [
        "l = [5, 3, 2, 2, 5, 6, 123, 195, 344, 255, 122, 45]"
      ],
      "execution_count": 38,
      "outputs": []
    },
    {
      "cell_type": "code",
      "metadata": {
        "id": "k2Qd5zamWN6O",
        "colab_type": "code",
        "colab": {}
      },
      "source": [
        ""
      ],
      "execution_count": null,
      "outputs": []
    }
  ]
}