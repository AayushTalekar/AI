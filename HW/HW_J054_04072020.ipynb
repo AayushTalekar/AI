{
  "nbformat": 4,
  "nbformat_minor": 0,
  "metadata": {
    "colab": {
      "name": "HW_J054_04072020.ipynb",
      "provenance": [],
      "authorship_tag": "ABX9TyMq7Q7F1AWmTkOXb+CFVOio",
      "include_colab_link": true
    },
    "kernelspec": {
      "name": "python3",
      "display_name": "Python 3"
    }
  },
  "cells": [
    {
      "cell_type": "markdown",
      "metadata": {
        "id": "view-in-github",
        "colab_type": "text"
      },
      "source": [
        "<a href=\"https://colab.research.google.com/github/AayushTalekar/AI/blob/master/HW/HW_J054_04072020.ipynb\" target=\"_parent\"><img src=\"https://colab.research.google.com/assets/colab-badge.svg\" alt=\"Open In Colab\"/></a>"
      ]
    },
    {
      "cell_type": "markdown",
      "metadata": {
        "id": "gG4rERuklIyN",
        "colab_type": "text"
      },
      "source": [
        "#Python If Else"
      ]
    },
    {
      "cell_type": "markdown",
      "metadata": {
        "id": "eCNCD4KRlXFZ",
        "colab_type": "text"
      },
      "source": [
        "**Task**\n",
        "\n",
        "\n",
        "Given an integer, , perform the following conditional actions:\n",
        "\n",
        "If n is odd, print Weird\n",
        "If n is even and in the inclusive range of 2 to 5, print Not Weird\n",
        "If n is even and in the inclusive range of 6 to 20, print Weird\n",
        "If n is even and greater than 20, print Not Weird\n",
        "\n",
        "\n"
      ]
    },
    {
      "cell_type": "code",
      "metadata": {
        "id": "WEn7zbQDkkyk",
        "colab_type": "code",
        "colab": {
          "base_uri": "https://localhost:8080/",
          "height": 52
        },
        "outputId": "c73f88b7-04b1-4b9e-ffcf-9685ccf351a7"
      },
      "source": [
        "import math\n",
        "import os\n",
        "import random\n",
        "import re\n",
        "import sys\n",
        "if __name__ == '__main__':\n",
        "    n = int(input().strip())\n",
        "    if 1<=n and n<=100:\n",
        "        if n%2 == 1:\n",
        "            print('Weird')\n",
        "        elif n%2==0:\n",
        "            if 2<=n and n<=5:\n",
        "                print('Not Weird')\n",
        "            elif 6<=n and n<=20:\n",
        "                print('Weird')\n",
        "            elif 20<n:\n",
        "                print('Not Weird')\n",
        "    else:\n",
        "        print('Input out of constraints')\n"
      ],
      "execution_count": 1,
      "outputs": [
        {
          "output_type": "stream",
          "text": [
            "3\n",
            "Weird\n"
          ],
          "name": "stdout"
        }
      ]
    },
    {
      "cell_type": "markdown",
      "metadata": {
        "id": "WSjMldldmtNM",
        "colab_type": "text"
      },
      "source": [
        "#Arithmatic Operators"
      ]
    },
    {
      "cell_type": "markdown",
      "metadata": {
        "id": "_BkaTvmdms7q",
        "colab_type": "text"
      },
      "source": [
        "Task\n",
        "Read two integers from STDIN and print three lines where:\n",
        "\n",
        "The first line contains the sum of the two numbers.\n",
        "The second line contains the difference of the two numbers (first - second).\n",
        "The third line contains the product of the two numbers.\n"
      ]
    },
    {
      "cell_type": "code",
      "metadata": {
        "id": "EBzcYaFolQKk",
        "colab_type": "code",
        "colab": {
          "base_uri": "https://localhost:8080/",
          "height": 104
        },
        "outputId": "4337c4cb-878b-4b43-a852-0dcf576bb97a"
      },
      "source": [
        "if __name__ == '__main__':\n",
        "    a = int(input())\n",
        "    b = int(input())\n",
        "    if 1<=a and a<=10**10 and 1<=b and b<=10**10:\n",
        "        add = a+b\n",
        "        print(add)\n",
        "        subtract = a-b\n",
        "        print(subtract)\n",
        "        multiply = a*b\n",
        "        print(multiply)"
      ],
      "execution_count": 2,
      "outputs": [
        {
          "output_type": "stream",
          "text": [
            "3\n",
            "2\n",
            "5\n",
            "1\n",
            "6\n"
          ],
          "name": "stdout"
        }
      ]
    },
    {
      "cell_type": "markdown",
      "metadata": {
        "id": "stEJa8lVnZII",
        "colab_type": "text"
      },
      "source": [
        "#Python: Division"
      ]
    },
    {
      "cell_type": "markdown",
      "metadata": {
        "id": "TZQsFzEQnY6v",
        "colab_type": "text"
      },
      "source": [
        "Task\n",
        "Read two integers and print two lines. The first line should contain integer division, a//b. The second line should contain float division, a/b.\n",
        "\n"
      ]
    },
    {
      "cell_type": "code",
      "metadata": {
        "id": "bQWRvMDRm8Yl",
        "colab_type": "code",
        "colab": {
          "base_uri": "https://localhost:8080/",
          "height": 87
        },
        "outputId": "fc8cf789-9039-439a-94ae-857e845637a6"
      },
      "source": [
        "if __name__ == '__main__':\n",
        "    a = int(input())\n",
        "    b = int(input())\n",
        "    int_div = a//b\n",
        "    print(int_div)\n",
        "    div = a/b\n",
        "    print(div)"
      ],
      "execution_count": 3,
      "outputs": [
        {
          "output_type": "stream",
          "text": [
            "3\n",
            "2\n",
            "1\n",
            "1.5\n"
          ],
          "name": "stdout"
        }
      ]
    },
    {
      "cell_type": "markdown",
      "metadata": {
        "id": "5q2gbOFVoSSn",
        "colab_type": "text"
      },
      "source": [
        "#Loops"
      ]
    },
    {
      "cell_type": "markdown",
      "metadata": {
        "id": "TyV3zOg5oSHJ",
        "colab_type": "text"
      },
      "source": [
        "Task\n",
        "Read an integer N. For all non-negative integers i<N, print i^2."
      ]
    },
    {
      "cell_type": "code",
      "metadata": {
        "id": "ZGJLC8P1nl2E",
        "colab_type": "code",
        "colab": {
          "base_uri": "https://localhost:8080/",
          "height": 121
        },
        "outputId": "f56cc0db-e816-40a0-88e2-95806fc41f04"
      },
      "source": [
        "if __name__ == '__main__':\n",
        "    n = int(input())\n",
        "    if 1<=n and n<=20:\n",
        "        for i in range (0,n):\n",
        "            print(i**2)"
      ],
      "execution_count": 4,
      "outputs": [
        {
          "output_type": "stream",
          "text": [
            "5\n",
            "0\n",
            "1\n",
            "4\n",
            "9\n",
            "16\n"
          ],
          "name": "stdout"
        }
      ]
    },
    {
      "cell_type": "markdown",
      "metadata": {
        "id": "tgWHc2hDwVAP",
        "colab_type": "text"
      },
      "source": [
        "#Print function"
      ]
    },
    {
      "cell_type": "markdown",
      "metadata": {
        "id": "GVwiQU8BwUz5",
        "colab_type": "text"
      },
      "source": [
        "Read an integer N.\n",
        "\n",
        "Without using any string methods, try to print the following:\n",
        "123...N\n",
        "\n",
        "Note that \"...\" represents the values in between."
      ]
    },
    {
      "cell_type": "code",
      "metadata": {
        "id": "gDC_ghQDs2uQ",
        "colab_type": "code",
        "colab": {
          "base_uri": "https://localhost:8080/",
          "height": 52
        },
        "outputId": "e097316e-9580-4d7c-c4a3-90de6d480ef7"
      },
      "source": [
        "if __name__ == '__main__':\n",
        "    n = int(input())\n",
        "    for i in range (1, n+1):\n",
        "        print(i, end=\"\")"
      ],
      "execution_count": 10,
      "outputs": [
        {
          "output_type": "stream",
          "text": [
            "5\n",
            "12345"
          ],
          "name": "stdout"
        }
      ]
    },
    {
      "cell_type": "markdown",
      "metadata": {
        "id": "hulM2yxvzq4f",
        "colab_type": "text"
      },
      "source": [
        "#List Comprehensions"
      ]
    },
    {
      "cell_type": "markdown",
      "metadata": {
        "id": "Si9oE3n2zqss",
        "colab_type": "text"
      },
      "source": [
        "Let's learn about list comprehensions! You are given three integers X, Y  and Z representing the dimensions of a cuboid along with an integer N. You have to print a list of all possible coordinates given by (i,j,k) on a 3D grid where the sum of i+j+k is not equal to N.\n",
        "\n",
        "Input Format\n",
        "\n",
        "Four integers  and  each on four separate lines, respectively."
      ]
    },
    {
      "cell_type": "code",
      "metadata": {
        "id": "mchOWPPSwg-P",
        "colab_type": "code",
        "colab": {
          "base_uri": "https://localhost:8080/",
          "height": 124
        },
        "outputId": "158ac810-53f2-4ea1-bb72-46decdef341a"
      },
      "source": [
        "if __name__ == '__main__':\n",
        "    x, y, z, n = int(input()), int(input()), int(input()), int(input())\n",
        "    print ([[a,b,c] for a in range(0,x+1) for b in range(0,y+1) for c in range(0,z+1) if a + b + c != n ])"
      ],
      "execution_count": 13,
      "outputs": [
        {
          "output_type": "stream",
          "text": [
            "1\n",
            "2\n",
            "3\n",
            "4\n",
            "[[0, 0, 0], [0, 0, 1], [0, 0, 2], [0, 0, 3], [0, 1, 0], [0, 1, 1], [0, 1, 2], [0, 2, 0], [0, 2, 1], [0, 2, 3], [1, 0, 0], [1, 0, 1], [1, 0, 2], [1, 1, 0], [1, 1, 1], [1, 1, 3], [1, 2, 0], [1, 2, 2], [1, 2, 3]]\n"
          ],
          "name": "stdout"
        }
      ]
    },
    {
      "cell_type": "code",
      "metadata": {
        "id": "2r8o9TME2hgR",
        "colab_type": "code",
        "colab": {}
      },
      "source": [
        ""
      ],
      "execution_count": null,
      "outputs": []
    }
  ]
}