{
  "nbformat": 4,
  "nbformat_minor": 0,
  "metadata": {
    "colab": {
      "name": "HW_J054_11072020.ipynb",
      "provenance": [],
      "collapsed_sections": [],
      "authorship_tag": "ABX9TyN/J7JzC+M3AmhDh2p3kFDy",
      "include_colab_link": true
    },
    "kernelspec": {
      "name": "python3",
      "display_name": "Python 3"
    }
  },
  "cells": [
    {
      "cell_type": "markdown",
      "metadata": {
        "id": "view-in-github",
        "colab_type": "text"
      },
      "source": [
        "<a href=\"https://colab.research.google.com/github/AayushTalekar/AI/blob/master/HW/HW_J054_11072020.ipynb\" target=\"_parent\"><img src=\"https://colab.research.google.com/assets/colab-badge.svg\" alt=\"Open In Colab\"/></a>"
      ]
    },
    {
      "cell_type": "code",
      "metadata": {
        "id": "vM_az8ZurrH1",
        "colab_type": "code",
        "colab": {
          "base_uri": "https://localhost:8080/",
          "height": 72
        },
        "outputId": "83c215ee-99dc-4aec-945e-4777b1ef6323"
      },
      "source": [
        "import pandas as pd\n",
        "import numpy as np\n",
        "import matplotlib.pyplot as plt\n",
        "import seaborn as sns"
      ],
      "execution_count": 75,
      "outputs": [
        {
          "output_type": "stream",
          "text": [
            "/usr/local/lib/python3.6/dist-packages/statsmodels/tools/_testing.py:19: FutureWarning: pandas.util.testing is deprecated. Use the functions in the public API at pandas.testing instead.\n",
            "  import pandas.util.testing as tm\n"
          ],
          "name": "stderr"
        }
      ]
    },
    {
      "cell_type": "code",
      "metadata": {
        "id": "s_bIMo4nGhfV",
        "colab_type": "code",
        "colab": {}
      },
      "source": [
        "class DataRead1(object):\n",
        "  def __init__(self, file_path):\n",
        "        self.file_path = pd.read_csv(file_path)\n",
        "\n",
        "  def file_read(self):\n",
        "    return self.file_path\n",
        "\n",
        "  def RowSelect(self):\n",
        "    i = int(input('Enter index of the row 1: '))\n",
        "    j = int(input('Enter index of row 2: '))\n",
        "    row_ij = self.file_path.iloc[[i, j], :]\n",
        "    return row_ij\n",
        "\n",
        "class DataRead2(DataRead1):\n",
        "  def correlation(self):\n",
        "    corr = self.file_path.corr()\n",
        "    sns.heatmap(corr)\n",
        "\n",
        "  def RowSelect(self):\n",
        "    i = int(input('Enter index of the row 1: '))\n",
        "    j = int(input('Enter index of row 2: '))\n",
        "    k = int(input('Enter index of row 3: '))\n",
        "    row_ijk = self.file_path.iloc[[i, j, k], :]\n",
        "    return row_ijk\n"
      ],
      "execution_count": 98,
      "outputs": []
    },
    {
      "cell_type": "markdown",
      "metadata": {
        "id": "19GfS1jIzzCl",
        "colab_type": "text"
      },
      "source": [
        "#Create a custom class DataRead to read csv file using pandas"
      ]
    },
    {
      "cell_type": "code",
      "metadata": {
        "id": "0XlHFRxW3EeM",
        "colab_type": "code",
        "colab": {}
      },
      "source": [
        "f1 = DataRead('/content/S&P 500 Index.csv')"
      ],
      "execution_count": 39,
      "outputs": []
    },
    {
      "cell_type": "code",
      "metadata": {
        "id": "Kizqr2eN5YeH",
        "colab_type": "code",
        "colab": {
          "base_uri": "https://localhost:8080/",
          "height": 415
        },
        "outputId": "0d7aed2a-1100-4a71-bff5-f6438b0f4de2"
      },
      "source": [
        "f1.file_read()"
      ],
      "execution_count": 40,
      "outputs": [
        {
          "output_type": "execute_result",
          "data": {
            "text/html": [
              "<div>\n",
              "<style scoped>\n",
              "    .dataframe tbody tr th:only-of-type {\n",
              "        vertical-align: middle;\n",
              "    }\n",
              "\n",
              "    .dataframe tbody tr th {\n",
              "        vertical-align: top;\n",
              "    }\n",
              "\n",
              "    .dataframe thead th {\n",
              "        text-align: right;\n",
              "    }\n",
              "</style>\n",
              "<table border=\"1\" class=\"dataframe\">\n",
              "  <thead>\n",
              "    <tr style=\"text-align: right;\">\n",
              "      <th></th>\n",
              "      <th>Date</th>\n",
              "      <th>Open</th>\n",
              "      <th>High</th>\n",
              "      <th>Low</th>\n",
              "      <th>Close</th>\n",
              "    </tr>\n",
              "  </thead>\n",
              "  <tbody>\n",
              "    <tr>\n",
              "      <th>0</th>\n",
              "      <td>1927-12-30</td>\n",
              "      <td>17.660000</td>\n",
              "      <td>17.660000</td>\n",
              "      <td>17.660000</td>\n",
              "      <td>17.660000</td>\n",
              "    </tr>\n",
              "    <tr>\n",
              "      <th>1</th>\n",
              "      <td>1928-01-03</td>\n",
              "      <td>17.760000</td>\n",
              "      <td>17.760000</td>\n",
              "      <td>17.760000</td>\n",
              "      <td>17.760000</td>\n",
              "    </tr>\n",
              "    <tr>\n",
              "      <th>2</th>\n",
              "      <td>1928-01-04</td>\n",
              "      <td>17.719999</td>\n",
              "      <td>17.719999</td>\n",
              "      <td>17.719999</td>\n",
              "      <td>17.719999</td>\n",
              "    </tr>\n",
              "    <tr>\n",
              "      <th>3</th>\n",
              "      <td>1928-01-05</td>\n",
              "      <td>17.549999</td>\n",
              "      <td>17.549999</td>\n",
              "      <td>17.549999</td>\n",
              "      <td>17.549999</td>\n",
              "    </tr>\n",
              "    <tr>\n",
              "      <th>4</th>\n",
              "      <td>1928-01-06</td>\n",
              "      <td>17.660000</td>\n",
              "      <td>17.660000</td>\n",
              "      <td>17.660000</td>\n",
              "      <td>17.660000</td>\n",
              "    </tr>\n",
              "    <tr>\n",
              "      <th>...</th>\n",
              "      <td>...</td>\n",
              "      <td>...</td>\n",
              "      <td>...</td>\n",
              "      <td>...</td>\n",
              "      <td>...</td>\n",
              "    </tr>\n",
              "    <tr>\n",
              "      <th>23207</th>\n",
              "      <td>2020-05-22</td>\n",
              "      <td>2948.050049</td>\n",
              "      <td>2956.760010</td>\n",
              "      <td>2933.590088</td>\n",
              "      <td>2955.449951</td>\n",
              "    </tr>\n",
              "    <tr>\n",
              "      <th>23208</th>\n",
              "      <td>2020-05-26</td>\n",
              "      <td>3004.080078</td>\n",
              "      <td>3021.719971</td>\n",
              "      <td>2988.169922</td>\n",
              "      <td>2991.770020</td>\n",
              "    </tr>\n",
              "    <tr>\n",
              "      <th>23209</th>\n",
              "      <td>2020-05-27</td>\n",
              "      <td>3015.649902</td>\n",
              "      <td>3036.250000</td>\n",
              "      <td>2969.750000</td>\n",
              "      <td>3036.129883</td>\n",
              "    </tr>\n",
              "    <tr>\n",
              "      <th>23210</th>\n",
              "      <td>2020-05-28</td>\n",
              "      <td>3046.610107</td>\n",
              "      <td>3068.669922</td>\n",
              "      <td>3023.399902</td>\n",
              "      <td>3029.729980</td>\n",
              "    </tr>\n",
              "    <tr>\n",
              "      <th>23211</th>\n",
              "      <td>2020-05-29</td>\n",
              "      <td>3025.169922</td>\n",
              "      <td>3049.169922</td>\n",
              "      <td>2998.610107</td>\n",
              "      <td>3044.310059</td>\n",
              "    </tr>\n",
              "  </tbody>\n",
              "</table>\n",
              "<p>23212 rows × 5 columns</p>\n",
              "</div>"
            ],
            "text/plain": [
              "             Date         Open         High          Low        Close\n",
              "0      1927-12-30    17.660000    17.660000    17.660000    17.660000\n",
              "1      1928-01-03    17.760000    17.760000    17.760000    17.760000\n",
              "2      1928-01-04    17.719999    17.719999    17.719999    17.719999\n",
              "3      1928-01-05    17.549999    17.549999    17.549999    17.549999\n",
              "4      1928-01-06    17.660000    17.660000    17.660000    17.660000\n",
              "...           ...          ...          ...          ...          ...\n",
              "23207  2020-05-22  2948.050049  2956.760010  2933.590088  2955.449951\n",
              "23208  2020-05-26  3004.080078  3021.719971  2988.169922  2991.770020\n",
              "23209  2020-05-27  3015.649902  3036.250000  2969.750000  3036.129883\n",
              "23210  2020-05-28  3046.610107  3068.669922  3023.399902  3029.729980\n",
              "23211  2020-05-29  3025.169922  3049.169922  2998.610107  3044.310059\n",
              "\n",
              "[23212 rows x 5 columns]"
            ]
          },
          "metadata": {
            "tags": []
          },
          "execution_count": 40
        }
      ]
    },
    {
      "cell_type": "markdown",
      "metadata": {
        "id": "mBrn7cym612_",
        "colab_type": "text"
      },
      "source": [
        "#Create a custom function RowSelect within the class to select any 2 rows of the dataframe"
      ]
    },
    {
      "cell_type": "code",
      "metadata": {
        "id": "Ln40-2j7_AH3",
        "colab_type": "code",
        "colab": {}
      },
      "source": [
        "f1 = DataRead('/content/S&P 500 Index.csv')"
      ],
      "execution_count": 53,
      "outputs": []
    },
    {
      "cell_type": "code",
      "metadata": {
        "id": "ObDRemcS_Mhg",
        "colab_type": "code",
        "colab": {
          "base_uri": "https://localhost:8080/",
          "height": 145
        },
        "outputId": "46218f75-da95-4cfd-eb7c-b256cf57b27d"
      },
      "source": [
        "f1.RowSelect()"
      ],
      "execution_count": 54,
      "outputs": [
        {
          "output_type": "stream",
          "text": [
            "Enter index of the row 12\n",
            "Enter index of row 23\n"
          ],
          "name": "stdout"
        },
        {
          "output_type": "execute_result",
          "data": {
            "text/html": [
              "<div>\n",
              "<style scoped>\n",
              "    .dataframe tbody tr th:only-of-type {\n",
              "        vertical-align: middle;\n",
              "    }\n",
              "\n",
              "    .dataframe tbody tr th {\n",
              "        vertical-align: top;\n",
              "    }\n",
              "\n",
              "    .dataframe thead th {\n",
              "        text-align: right;\n",
              "    }\n",
              "</style>\n",
              "<table border=\"1\" class=\"dataframe\">\n",
              "  <thead>\n",
              "    <tr style=\"text-align: right;\">\n",
              "      <th></th>\n",
              "      <th>Date</th>\n",
              "      <th>Open</th>\n",
              "      <th>High</th>\n",
              "      <th>Low</th>\n",
              "      <th>Close</th>\n",
              "    </tr>\n",
              "  </thead>\n",
              "  <tbody>\n",
              "    <tr>\n",
              "      <th>2</th>\n",
              "      <td>1928-01-04</td>\n",
              "      <td>17.719999</td>\n",
              "      <td>17.719999</td>\n",
              "      <td>17.719999</td>\n",
              "      <td>17.719999</td>\n",
              "    </tr>\n",
              "    <tr>\n",
              "      <th>3</th>\n",
              "      <td>1928-01-05</td>\n",
              "      <td>17.549999</td>\n",
              "      <td>17.549999</td>\n",
              "      <td>17.549999</td>\n",
              "      <td>17.549999</td>\n",
              "    </tr>\n",
              "  </tbody>\n",
              "</table>\n",
              "</div>"
            ],
            "text/plain": [
              "         Date       Open       High        Low      Close\n",
              "2  1928-01-04  17.719999  17.719999  17.719999  17.719999\n",
              "3  1928-01-05  17.549999  17.549999  17.549999  17.549999"
            ]
          },
          "metadata": {
            "tags": []
          },
          "execution_count": 54
        }
      ]
    },
    {
      "cell_type": "markdown",
      "metadata": {
        "id": "AATvFPcfBB_j",
        "colab_type": "text"
      },
      "source": [
        "#Create a sub class of DataRead1 as  DataRead2  that has function for correlation plots (using any lib for correlation plot)"
      ]
    },
    {
      "cell_type": "code",
      "metadata": {
        "id": "YlTXysFXCaM0",
        "colab_type": "code",
        "colab": {}
      },
      "source": [
        "f1 = DataRead('/content/S&P 500 Index.csv')"
      ],
      "execution_count": 86,
      "outputs": []
    },
    {
      "cell_type": "code",
      "metadata": {
        "id": "x_YhnFzUFBY0",
        "colab_type": "code",
        "colab": {
          "base_uri": "https://localhost:8080/",
          "height": 276
        },
        "outputId": "f4b506fa-07ed-48d7-ab99-908d7cde5d28"
      },
      "source": [
        "f1.correlation()"
      ],
      "execution_count": 87,
      "outputs": [
        {
          "output_type": "display_data",
          "data": {
            "image/png": "[encoded data removed]",
            "text/plain": [
              "<Figure size 432x288 with 2 Axes>"
            ]
          },
          "metadata": {
            "tags": [],
            "needs_background": "light"
          }
        }
      ]
    },
    {
      "cell_type": "markdown",
      "metadata": {
        "id": "HLrZ-oDjHLpE",
        "colab_type": "text"
      },
      "source": [
        "#Within DataRead2 also create a function to override the custom function of DataRead1 RowSelect to select 3 rows"
      ]
    },
    {
      "cell_type": "code",
      "metadata": {
        "id": "Ut3ElOSQLwmz",
        "colab_type": "code",
        "colab": {}
      },
      "source": [
        "f1 = DataRead2('/content/S&P 500 Index.csv')"
      ],
      "execution_count": 106,
      "outputs": []
    },
    {
      "cell_type": "code",
      "metadata": {
        "id": "iBCiU5_eOXsU",
        "colab_type": "code",
        "colab": {
          "base_uri": "https://localhost:8080/",
          "height": 193
        },
        "outputId": "cd360294-9faa-496e-eecd-1ac29d00e7ff"
      },
      "source": [
        "f1.RowSelect()"
      ],
      "execution_count": 107,
      "outputs": [
        {
          "output_type": "stream",
          "text": [
            "Enter index of the row 1: 22\n",
            "Enter index of row 2: 33\n",
            "Enter index of row 3: 44\n"
          ],
          "name": "stdout"
        },
        {
          "output_type": "execute_result",
          "data": {
            "text/html": [
              "<div>\n",
              "<style scoped>\n",
              "    .dataframe tbody tr th:only-of-type {\n",
              "        vertical-align: middle;\n",
              "    }\n",
              "\n",
              "    .dataframe tbody tr th {\n",
              "        vertical-align: top;\n",
              "    }\n",
              "\n",
              "    .dataframe thead th {\n",
              "        text-align: right;\n",
              "    }\n",
              "</style>\n",
              "<table border=\"1\" class=\"dataframe\">\n",
              "  <thead>\n",
              "    <tr style=\"text-align: right;\">\n",
              "      <th></th>\n",
              "      <th>Date</th>\n",
              "      <th>Open</th>\n",
              "      <th>High</th>\n",
              "      <th>Low</th>\n",
              "      <th>Close</th>\n",
              "    </tr>\n",
              "  </thead>\n",
              "  <tbody>\n",
              "    <tr>\n",
              "      <th>22</th>\n",
              "      <td>1928-02-01</td>\n",
              "      <td>17.530001</td>\n",
              "      <td>17.530001</td>\n",
              "      <td>17.530001</td>\n",
              "      <td>17.530001</td>\n",
              "    </tr>\n",
              "    <tr>\n",
              "      <th>33</th>\n",
              "      <td>1928-02-17</td>\n",
              "      <td>17.040001</td>\n",
              "      <td>17.040001</td>\n",
              "      <td>17.040001</td>\n",
              "      <td>17.040001</td>\n",
              "    </tr>\n",
              "    <tr>\n",
              "      <th>44</th>\n",
              "      <td>1928-03-06</td>\n",
              "      <td>17.670000</td>\n",
              "      <td>17.670000</td>\n",
              "      <td>17.670000</td>\n",
              "      <td>17.670000</td>\n",
              "    </tr>\n",
              "  </tbody>\n",
              "</table>\n",
              "</div>"
            ],
            "text/plain": [
              "          Date       Open       High        Low      Close\n",
              "22  1928-02-01  17.530001  17.530001  17.530001  17.530001\n",
              "33  1928-02-17  17.040001  17.040001  17.040001  17.040001\n",
              "44  1928-03-06  17.670000  17.670000  17.670000  17.670000"
            ]
          },
          "metadata": {
            "tags": []
          },
          "execution_count": 107
        }
      ]
    }
  ]
}