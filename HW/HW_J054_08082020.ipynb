{
  "nbformat": 4,
  "nbformat_minor": 0,
  "metadata": {
    "colab": {
      "name": "HW_J054_08082020.ipynb",
      "provenance": [],
      "authorship_tag": "ABX9TyOVAmBgCVGPhwwu2a7kiZ5N",
      "include_colab_link": true
    },
    "kernelspec": {
      "name": "python3",
      "display_name": "Python 3"
    }
  },
  "cells": [
    {
      "cell_type": "markdown",
      "metadata": {
        "id": "view-in-github",
        "colab_type": "text"
      },
      "source": [
        "<a href=\"https://colab.research.google.com/github/AayushTalekar/AI/blob/master/HW/HW_J054_08082020.ipynb\" target=\"_parent\"><img src=\"https://colab.research.google.com/assets/colab-badge.svg\" alt=\"Open In Colab\"/></a>"
      ]
    },
    {
      "cell_type": "code",
      "metadata": {
        "id": "rG0VvGPZBfQu",
        "colab_type": "code",
        "colab": {}
      },
      "source": [
        "import pandas as pd\n",
        "import numpy as np\n",
        "import sys\n",
        "import heapq"
      ],
      "execution_count": 4,
      "outputs": []
    },
    {
      "cell_type": "code",
      "metadata": {
        "id": "Yy0ffKkBJHw1",
        "colab_type": "code",
        "colab": {}
      },
      "source": [
        "def solve(N,M,S,V,E) :\n",
        "\n",
        "    T = tuple(set() for _ in range(N)) \n",
        "    for u,v in E :\n",
        "        T[u].add(v)\n",
        "        T[v].add(u)\n",
        "    Total, order, maxValue = sum(V), sorted(range(n), reverse=True, key=(lambda i : V[i]/S[i])), 0\n",
        "        \n",
        "    def getMax(visited, connected, rejected, size, value, rejectedValue, maxValue) :\n",
        "        if value > maxValue :\n",
        "            maxValue = value\n",
        "            \n",
        "        if not connected :\n",
        "            return maxValue\n",
        "        \n",
        "        i = getBest(connected)\n",
        "        if size + S[i] <= M :\n",
        "            maxValue = getMax(visited|{i}, (connected-{i}) | (T[i]-rejected-visited), rejected, size+S[i], value+V[i], rejectedValue, maxValue)\n",
        "            \n",
        "        if Total - (rejectedValue + V[i]) > maxValue :\n",
        "            maxValue = getMax(visited|{i}, connected-{i}, rejected | {i}, size, value, rejectedValue + V[i], maxValue)\n",
        "            \n",
        "        return maxValue\n",
        "\n",
        "    def getBest(connected) :\n",
        "        for i in order :\n",
        "            if i in connected :\n",
        "                return i\n",
        "            \n",
        "    for s in order :\n",
        "        maxValue = getMax(set(),{s},set(),0,0,0,maxValue)\n",
        "\n",
        "    return maxValue"
      ],
      "execution_count": 5,
      "outputs": []
    },
    {
      "cell_type": "code",
      "metadata": {
        "id": "azh_bR2fWTUe",
        "colab_type": "code",
        "colab": {
          "base_uri": "https://localhost:8080/",
          "height": 225
        },
        "outputId": "a19ac973-9dcd-4f71-fda6-25d8f881b3ca"
      },
      "source": [
        "T = int(input('Enter number of test cases: '))\n",
        "for _ in range(T) :\n",
        "    print(\"Enter the number of nodes and size of knapsack: \")\n",
        "    n,m = (int(_) for _ in input().split())\n",
        "    print(\"Enter the size of item node wise: \")\n",
        "    s = tuple(int(_) for _ in input().split())\n",
        "    print(\"Enter value of item node wise: \")\n",
        "    v = tuple(int(_) for _ in input().split())\n",
        "    print(\"Enter the edge pairs: \")\n",
        "    e = tuple((int(_)-1 for _ in input().split()) for _ in range(n-1))\n",
        "\n",
        "    print(\"Answer: \")\n",
        "    print(solve(n,m,s,v,e))"
      ],
      "execution_count": 6,
      "outputs": [
        {
          "output_type": "stream",
          "text": [
            "Enter number of test cases: 1\n",
            "Enter the number of nodes and size of knapsack: \n",
            "3 1\n",
            "Enter the size of item node wise: \n",
            "1 1 1\n",
            "Enter value of item node wise: \n",
            "1 2 3\n",
            "Enter the edge pairs: \n",
            "1 2\n",
            "1 3\n",
            "Answer: \n",
            "3\n"
          ],
          "name": "stdout"
        }
      ]
    },
    {
      "cell_type": "code",
      "metadata": {
        "id": "xoSIoLwYyz3Q",
        "colab_type": "code",
        "colab": {
          "base_uri": "https://localhost:8080/",
          "height": 260
        },
        "outputId": "f9bfef2a-3532-41fe-94c3-e0c515a2ed26"
      },
      "source": [
        "T = int(input('Enter number of test cases: '))\n",
        "for _ in range(T) :\n",
        "    print(\"Enter the number of nodes and size of knapsack: \")\n",
        "    n,m = (int(_) for _ in input().split())\n",
        "    print(\"Enter the size of item node wise: \")\n",
        "    s = tuple(int(_) for _ in input().split())\n",
        "    print(\"Enter value of item node wise: \")\n",
        "    v = tuple(int(_) for _ in input().split())\n",
        "    print(\"Enter the edge pairs: \")\n",
        "    e = tuple((int(_)-1 for _ in input().split()) for _ in range(n-1))\n",
        "\n",
        "    print(\"Answer: \")\n",
        "    print(solve(n,m,s,v,e))"
      ],
      "execution_count": 7,
      "outputs": [
        {
          "output_type": "stream",
          "text": [
            "Enter number of test cases: 1\n",
            "Enter the number of nodes and size of knapsack: \n",
            "5 3\n",
            "Enter the size of item node wise: \n",
            "1 1 1 1 1\n",
            "Enter value of item node wise: \n",
            "3 5 2 2 3\n",
            "Enter the edge pairs: \n",
            "1 2\n",
            "1 3\n",
            "2 4\n",
            "2 5\n",
            "Answer: \n",
            "11\n"
          ],
          "name": "stdout"
        }
      ]
    },
    {
      "cell_type": "code",
      "metadata": {
        "id": "i9_xij-9y0aI",
        "colab_type": "code",
        "colab": {
          "base_uri": "https://localhost:8080/",
          "height": 329
        },
        "outputId": "4f3bc1bb-590e-4650-85dd-cca83ef0ff23"
      },
      "source": [
        "T = int(input('Enter number of test cases: '))\n",
        "for _ in range(T) :\n",
        "    print(\"Enter the number of nodes and size of knapsack: \")\n",
        "    n,m = (int(_) for _ in input().split())\n",
        "    print(\"Enter the size of item node wise: \")\n",
        "    s = tuple(int(_) for _ in input().split())\n",
        "    print(\"Enter value of item node wise: \")\n",
        "    v = tuple(int(_) for _ in input().split())\n",
        "    print(\"Enter the edge pairs: \")\n",
        "    e = tuple((int(_)-1 for _ in input().split()) for _ in range(n-1))\n",
        "\n",
        "    print(\"Answer: \")\n",
        "    print(solve(n,m,s,v,e))"
      ],
      "execution_count": 8,
      "outputs": [
        {
          "output_type": "stream",
          "text": [
            "Enter number of test cases: 1\n",
            "Enter the number of nodes and size of knapsack: \n",
            "9 7\n",
            "Enter the size of item node wise: \n",
            "1 1 3 2 1 1 1 5 5\n",
            "Enter value of item node wise: \n",
            "1 0 8 5 1 2 0 9 14\n",
            "Enter the edge pairs: \n",
            "1 2\n",
            "2 3\n",
            "2 4\n",
            "3 5\n",
            "3 6\n",
            "4 7\n",
            "4 8\n",
            "7 9\n",
            "Answer: \n",
            "15\n"
          ],
          "name": "stdout"
        }
      ]
    },
    {
      "cell_type": "code",
      "metadata": {
        "id": "_kvvGawYzFro",
        "colab_type": "code",
        "colab": {}
      },
      "source": [
        ""
      ],
      "execution_count": null,
      "outputs": []
    }
  ]
}