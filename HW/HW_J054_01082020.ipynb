{
  "nbformat": 4,
  "nbformat_minor": 0,
  "metadata": {
    "colab": {
      "name": "HW_J054_01082020.ipynb",
      "provenance": [],
      "authorship_tag": "ABX9TyNVPk6aMvxx73jXzpA7Mq8b",
      "include_colab_link": true
    },
    "kernelspec": {
      "name": "python3",
      "display_name": "Python 3"
    }
  },
  "cells": [
    {
      "cell_type": "markdown",
      "metadata": {
        "id": "view-in-github",
        "colab_type": "text"
      },
      "source": [
        "<a href=\"https://colab.research.google.com/github/AayushTalekar/AI/blob/master/HW/HW_J054_01082020.ipynb\" target=\"_parent\"><img src=\"https://colab.research.google.com/assets/colab-badge.svg\" alt=\"Open In Colab\"/></a>"
      ]
    },
    {
      "cell_type": "markdown",
      "metadata": {
        "id": "Ro9cB5sw5aB6",
        "colab_type": "text"
      },
      "source": [
        "#Validating Postal Codes\n",
        "\n"
      ]
    },
    {
      "cell_type": "code",
      "metadata": {
        "id": "kQjHUNrq_qaf",
        "colab_type": "code",
        "colab": {}
      },
      "source": [
        "regex_integer_in_range = r\"^[1-9][\\d]{5}$\"\t# Do not delete 'r'.\n",
        "regex_alternating_repetitive_digit_pair = r\"(\\d)(?=\\d\\1)\"\t# Do not delete 'r'\n",
        "import re\n",
        "P = input()\n",
        "\n",
        "print (bool(re.match(regex_integer_in_range, P)) \n",
        "and len(re.findall(regex_alternating_repetitive_digit_pair, P)) < 2)"
      ],
      "execution_count": null,
      "outputs": []
    },
    {
      "cell_type": "markdown",
      "metadata": {
        "id": "BQ7kdYk1ofXa",
        "colab_type": "text"
      },
      "source": [
        "regex_integer_in_range = r\"^[1-9][\\d]{5}$\" this is used to check whether the number is in the range 100000 - 999999. ^[1-9] checks whether the input number starts with number between 1 and 9. [\\d]{5} checks whether remaining number has 5 digits or not so that the total number of digits is 6."
      ]
    },
    {
      "cell_type": "markdown",
      "metadata": {
        "id": "RaphW2vPqsxE",
        "colab_type": "text"
      },
      "source": [
        "regex_alternating_repetitive_digit_pair = r\"(\\d)(?=\\d\\1)\" is used to check the number of alternating numbers. (\\d)(?=\\d\\1) checks whether 2 alternate numbers are same or not. \\d is used to access the first number, \\d\\1 is used to get the second number and ?= is used to check whether the numbers are same or not"
      ]
    },
    {
      "cell_type": "markdown",
      "metadata": {
        "id": "k-GzJBB0Z97i",
        "colab_type": "text"
      },
      "source": [
        "#The Coin Change Problem"
      ]
    },
    {
      "cell_type": "code",
      "metadata": {
        "id": "2DaMuz7mCOXb",
        "colab_type": "code",
        "colab": {}
      },
      "source": [
        "#!/bin/python3\n",
        "\n",
        "import math\n",
        "import os\n",
        "import random\n",
        "import re\n",
        "import sys\n",
        "\n",
        "#\n",
        "# Complete the 'getWays' function below.\n",
        "#\n",
        "# The function is expected to return a LONG_INTEGER.\n",
        "# The function accepts following parameters:\n",
        "#  1. INTEGER n\n",
        "#  2. LONG_INTEGER_ARRAY c\n",
        "#\n",
        "\n",
        "def getWays(n, c):\n",
        "    arr = [0 for h in range(n+1)]\n",
        "    arr[0] = 1\n",
        "\n",
        "    for k in c:\n",
        "        for i in range(1,n+1):\n",
        "            if n>=k:\n",
        "                if i>=k:\n",
        "                    arr[i] += arr[i-k]\n",
        "    return arr\n",
        "if __name__ == '__main__':\n",
        "    fptr = open(os.environ['OUTPUT_PATH'], 'w')\n",
        "\n",
        "    first_multiple_input = input().rstrip().split()\n",
        "\n",
        "    n = int(first_multiple_input[0])\n",
        "\n",
        "    m = int(first_multiple_input[1])\n",
        "\n",
        "    c = list(map(int, input().rstrip().split()))\n",
        "\n",
        "    # Print the number of ways of making change for 'n' units using coins having the values given by 'c'\n",
        "\n",
        "    ways = getWays(n, c)\n",
        "    ways = ways[-1]\n",
        "    fptr.write(str(ways) + '\\n')\n",
        "\n",
        "    fptr.close()\n"
      ],
      "execution_count": null,
      "outputs": []
    },
    {
      "cell_type": "markdown",
      "metadata": {
        "id": "AqWPV9JbsMb9",
        "colab_type": "text"
      },
      "source": [
        "The function getWays is used to get the number of ways. It takes inputs of n and c, where n is the amount to make change and c is the available denominations. The function then initializes array arr with zeros and the arr[1] is set as 1. It returns an array where the last unit has the maximum number of ways"
      ]
    },
    {
      "cell_type": "markdown",
      "metadata": {
        "id": "_pLXyNBEaHNd",
        "colab_type": "text"
      },
      "source": [
        "#Sherlock and Cost"
      ]
    },
    {
      "cell_type": "code",
      "metadata": {
        "id": "OaVtBFOUVvMt",
        "colab_type": "code",
        "colab": {}
      },
      "source": [
        "#!/bin/python3\n",
        "\n",
        "import math\n",
        "import os\n",
        "import random\n",
        "import re\n",
        "import sys\n",
        "\n",
        "# Complete the cost function below.\n",
        "def cost(B):\n",
        "    L=len(B)\n",
        "    dp=matrix = [[0 for i in range(2)] for i in range(L)]\n",
        "    i=1\n",
        "    while i<len(B):\n",
        "        dp[i][0]=max(dp[i-1][0], dp[i-1][1]+B[i-1]-1)\n",
        "        dp[i][1]=max(dp[i-1][0]+B[i]-1, dp[i-1][1]+abs(B[i]-B[i-1]))\n",
        "        i += 1\n",
        "    return max(dp[L-1][0],dp[L-1][1])\n",
        "if __name__ == '__main__':\n",
        "    fptr = open(os.environ['OUTPUT_PATH'], 'w')\n",
        "\n",
        "    t = int(input())\n",
        "\n",
        "    for t_itr in range(t):\n",
        "        n = int(input())\n",
        "\n",
        "        B = list(map(int, input().rstrip().split()))\n",
        "\n",
        "        result = cost(B)\n",
        "\n",
        "        fptr.write(str(result) + '\\n')\n",
        "\n",
        "    fptr.close()"
      ],
      "execution_count": null,
      "outputs": []
    },
    {
      "cell_type": "markdown",
      "metadata": {
        "id": "V9coe-LmlmU8",
        "colab_type": "text"
      },
      "source": [
        "An array B is given where array dp is determined such that A[i]<=B[i]. The cost function is used to get the maximum difference between two consecutive pairs of A.\n",
        "The cost function takes input B and initializes matix dp with 0.\n",
        "dp[i][0] means  the max sum of A[0 to i] when A[i]=1, \n",
        "dp[i][1] means  the max sum of A[0 to i] when A[i]=B[i] \n",
        "The function returns the maximum between dp[0] and dp[1]"
      ]
    }
  ]
}